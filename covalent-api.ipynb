{
 "cells": [
  {
   "cell_type": "code",
   "execution_count": 1,
   "id": "ceb8cb4a-c8ba-4b51-83e9-135543e6a222",
   "metadata": {},
   "outputs": [],
   "source": [
    "with open('api-key.txt', 'r') as f:\n",
    "    lines = f.readlines()\n",
    "    apikey = lines[0]"
   ]
  },
  {
   "cell_type": "markdown",
   "id": "72ff8d90-9376-41ca-abf0-fd3bd3293779",
   "metadata": {},
   "source": [
    "# Using Covalent ReST API"
   ]
  },
  {
   "cell_type": "code",
   "execution_count": 19,
   "id": "be8bfdcb-22f7-4f5d-91a0-93ccb6e13a1e",
   "metadata": {},
   "outputs": [],
   "source": [
    "import requests\n",
    "from requests.auth import HTTPBasicAuth"
   ]
  },
  {
   "cell_type": "code",
   "execution_count": 16,
   "id": "4cd160d5-2aab-49f7-aaa5-08b6460f998b",
   "metadata": {},
   "outputs": [
    {
     "data": {
      "text/plain": [
       "'https://api.covalenthq.com/v1/eth-mainnet/event/erc20/gas_prices/?'"
      ]
     },
     "execution_count": 16,
     "metadata": {},
     "output_type": "execute_result"
    }
   ],
   "source": [
    "network = 'eth-mainnet'\n",
    "eventType = 'erc20'\n",
    "url = f'https://api.covalenthq.com/v1/{network}/event/{eventType}/gas_prices/?'\n",
    "url"
   ]
  },
  {
   "cell_type": "code",
   "execution_count": 17,
   "id": "0e115fe2-7aba-4db0-9c5b-3319c066af3f",
   "metadata": {},
   "outputs": [],
   "source": [
    "headers = { \"Content-Type\": \"application/json\" }"
   ]
  },
  {
   "cell_type": "code",
   "execution_count": 20,
   "id": "6209dc95-5831-4d3e-a053-64fcb89afeb7",
   "metadata": {},
   "outputs": [],
   "source": [
    "response = requests.get(url, auth=HTTPBasicAuth(apikey,''))"
   ]
  },
  {
   "cell_type": "code",
   "execution_count": 24,
   "id": "5ef1073d-4cc3-4bdc-8925-bc82cacd62e3",
   "metadata": {},
   "outputs": [
    {
     "data": {
      "text/plain": [
       "{'data': {'updated_at': '2024-04-25T13:03:12.865679882Z',\n",
       "  'chain_id': 1,\n",
       "  'chain_name': 'eth-mainnet',\n",
       "  'event_type': 'erc20',\n",
       "  'gas_quote_rate': 3138.019287109375,\n",
       "  'quote_currency': 'USD',\n",
       "  'base_fee': '12239451630',\n",
       "  'items': [{'gas_price': '12125217496',\n",
       "    'gas_spent': '48119',\n",
       "    'gas_quote': 1.8308878362136924,\n",
       "    'other_fees': {'l1_gas_quote': None},\n",
       "    'total_gas_quote': 1.8308878362136924,\n",
       "    'pretty_total_gas_quote': '$1.83',\n",
       "    'interval': 'Last 1 minute'},\n",
       "   {'gas_price': '11793136275',\n",
       "    'gas_spent': '49183',\n",
       "    'gas_quote': 1.8201196625393232,\n",
       "    'other_fees': {'l1_gas_quote': None},\n",
       "    'total_gas_quote': 1.8201196625393232,\n",
       "    'pretty_total_gas_quote': '$1.82',\n",
       "    'interval': 'Last 3 minutes'},\n",
       "   {'gas_price': '11768410045',\n",
       "    'gas_spent': '49264',\n",
       "    'gas_quote': 1.8192947746840165,\n",
       "    'other_fees': {'l1_gas_quote': None},\n",
       "    'total_gas_quote': 1.8192947746840165,\n",
       "    'pretty_total_gas_quote': '$1.82',\n",
       "    'interval': 'Last 5 minutes'}]},\n",
       " 'error': False,\n",
       " 'error_message': None,\n",
       " 'error_code': None}"
      ]
     },
     "execution_count": 24,
     "metadata": {},
     "output_type": "execute_result"
    }
   ],
   "source": [
    "response.json()"
   ]
  },
  {
   "cell_type": "markdown",
   "id": "1ff6347d-c3a9-4dba-8ba9-3c0aa80470d8",
   "metadata": {},
   "source": [
    "# Using Covalent SDK"
   ]
  },
  {
   "cell_type": "code",
   "execution_count": 9,
   "id": "6962478e-62fd-47fa-872a-5647c73bfbd9",
   "metadata": {},
   "outputs": [
    {
     "name": "stdout",
     "output_type": "stream",
     "text": [
      "<covalent.services.base_service.GasPricesResponse object at 0x7febb7dccf50>\n"
     ]
    }
   ],
   "source": [
    "from covalent import CovalentClient\n",
    "\n",
    "c = CovalentClient(apikey)\n",
    "b = c.base_service.get_gas_prices(\"eth-mainnet\", event_type=\"erc20\")\n",
    "if not b.error:\n",
    "    print(b.data)\n",
    "else:\n",
    "    print(b.error_message)\n"
   ]
  }
 ],
 "metadata": {
  "kernelspec": {
   "display_name": "Python 3 (ipykernel)",
   "language": "python",
   "name": "python3"
  },
  "language_info": {
   "codemirror_mode": {
    "name": "ipython",
    "version": 3
   },
   "file_extension": ".py",
   "mimetype": "text/x-python",
   "name": "python",
   "nbconvert_exporter": "python",
   "pygments_lexer": "ipython3",
   "version": "3.11.8"
  }
 },
 "nbformat": 4,
 "nbformat_minor": 5
}
